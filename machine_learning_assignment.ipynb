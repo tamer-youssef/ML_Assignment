{
  "cells": [
    {
      "cell_type": "markdown",
      "metadata": {
        "id": "BKHMgEtJF9hy"
      },
      "source": [
        "# **cs:go round winner classification**\n",
        "the goal of this notebook is to find which team - CT vs T - is most likely to win each round based on team match stats and gear"
      ]
    },
    {
      "cell_type": "code",
      "execution_count": 47,
      "metadata": {
        "id": "qzNWIdgpF9h0"
      },
      "outputs": [],
      "source": [
        "import numpy as np\n",
        "import matplotlib.pyplot as plt\n",
        "import pandas as pd\n",
        "import tensorflow as tf"
      ]
    },
    {
      "cell_type": "code",
      "source": [
        "from google.colab import drive\n",
        "drive.mount('/content/drive')"
      ],
      "metadata": {
        "id": "1zhNEXJYCpsM",
        "colab": {
          "base_uri": "https://localhost:8080/"
        },
        "outputId": "fd1ea41a-b179-44d6-e465-4900f4537e7e"
      },
      "execution_count": 48,
      "outputs": [
        {
          "output_type": "stream",
          "name": "stdout",
          "text": [
            "Drive already mounted at /content/drive; to attempt to forcibly remount, call drive.mount(\"/content/drive\", force_remount=True).\n"
          ]
        }
      ]
    },
    {
      "cell_type": "markdown",
      "metadata": {
        "id": "xcPz_b9zF9h1"
      },
      "source": [
        "## **importing & preprocessing the dataset**"
      ]
    },
    {
      "cell_type": "markdown",
      "source": [
        "### **assigning the dependent and independent variables**:"
      ],
      "metadata": {
        "id": "aL1nJnxReL_T"
      }
    },
    {
      "cell_type": "code",
      "execution_count": 49,
      "metadata": {
        "colab": {
          "base_uri": "https://localhost:8080/",
          "height": 300
        },
        "id": "aQcAWhvUF9h1",
        "outputId": "c28e28cb-b5b4-4c10-8a6e-be81a22c3369"
      },
      "outputs": [
        {
          "output_type": "execute_result",
          "data": {
            "text/plain": [
              "   time_left  ct_score  t_score       map  bomb_planted  ct_health  t_health  \\\n",
              "0     175.00       0.0      0.0  de_dust2         False      500.0     500.0   \n",
              "1     156.03       0.0      0.0  de_dust2         False      500.0     500.0   \n",
              "2      96.03       0.0      0.0  de_dust2         False      391.0     400.0   \n",
              "3      76.03       0.0      0.0  de_dust2         False      391.0     400.0   \n",
              "4     174.97       1.0      0.0  de_dust2         False      500.0     500.0   \n",
              "\n",
              "   ct_armor  t_armor  ct_money  ...  t_grenade_flashbang  \\\n",
              "0       0.0      0.0    4000.0  ...                  0.0   \n",
              "1     400.0    300.0     600.0  ...                  0.0   \n",
              "2     294.0    200.0     750.0  ...                  0.0   \n",
              "3     294.0    200.0     750.0  ...                  0.0   \n",
              "4     192.0      0.0   18350.0  ...                  0.0   \n",
              "\n",
              "   ct_grenade_smokegrenade  t_grenade_smokegrenade  \\\n",
              "0                      0.0                     0.0   \n",
              "1                      0.0                     2.0   \n",
              "2                      0.0                     2.0   \n",
              "3                      0.0                     0.0   \n",
              "4                      0.0                     0.0   \n",
              "\n",
              "   ct_grenade_incendiarygrenade  t_grenade_incendiarygrenade  \\\n",
              "0                           0.0                          0.0   \n",
              "1                           0.0                          0.0   \n",
              "2                           0.0                          0.0   \n",
              "3                           0.0                          0.0   \n",
              "4                           0.0                          0.0   \n",
              "\n",
              "   ct_grenade_molotovgrenade  t_grenade_molotovgrenade  \\\n",
              "0                        0.0                       0.0   \n",
              "1                        0.0                       0.0   \n",
              "2                        0.0                       0.0   \n",
              "3                        0.0                       0.0   \n",
              "4                        0.0                       0.0   \n",
              "\n",
              "   ct_grenade_decoygrenade  t_grenade_decoygrenade  round_winner  \n",
              "0                      0.0                     0.0            CT  \n",
              "1                      0.0                     0.0            CT  \n",
              "2                      0.0                     0.0            CT  \n",
              "3                      0.0                     0.0            CT  \n",
              "4                      0.0                     0.0            CT  \n",
              "\n",
              "[5 rows x 97 columns]"
            ],
            "text/html": [
              "\n",
              "  <div id=\"df-5fce55a1-1bff-4eb3-af0d-e481001dc064\">\n",
              "    <div class=\"colab-df-container\">\n",
              "      <div>\n",
              "<style scoped>\n",
              "    .dataframe tbody tr th:only-of-type {\n",
              "        vertical-align: middle;\n",
              "    }\n",
              "\n",
              "    .dataframe tbody tr th {\n",
              "        vertical-align: top;\n",
              "    }\n",
              "\n",
              "    .dataframe thead th {\n",
              "        text-align: right;\n",
              "    }\n",
              "</style>\n",
              "<table border=\"1\" class=\"dataframe\">\n",
              "  <thead>\n",
              "    <tr style=\"text-align: right;\">\n",
              "      <th></th>\n",
              "      <th>time_left</th>\n",
              "      <th>ct_score</th>\n",
              "      <th>t_score</th>\n",
              "      <th>map</th>\n",
              "      <th>bomb_planted</th>\n",
              "      <th>ct_health</th>\n",
              "      <th>t_health</th>\n",
              "      <th>ct_armor</th>\n",
              "      <th>t_armor</th>\n",
              "      <th>ct_money</th>\n",
              "      <th>...</th>\n",
              "      <th>t_grenade_flashbang</th>\n",
              "      <th>ct_grenade_smokegrenade</th>\n",
              "      <th>t_grenade_smokegrenade</th>\n",
              "      <th>ct_grenade_incendiarygrenade</th>\n",
              "      <th>t_grenade_incendiarygrenade</th>\n",
              "      <th>ct_grenade_molotovgrenade</th>\n",
              "      <th>t_grenade_molotovgrenade</th>\n",
              "      <th>ct_grenade_decoygrenade</th>\n",
              "      <th>t_grenade_decoygrenade</th>\n",
              "      <th>round_winner</th>\n",
              "    </tr>\n",
              "  </thead>\n",
              "  <tbody>\n",
              "    <tr>\n",
              "      <th>0</th>\n",
              "      <td>175.00</td>\n",
              "      <td>0.0</td>\n",
              "      <td>0.0</td>\n",
              "      <td>de_dust2</td>\n",
              "      <td>False</td>\n",
              "      <td>500.0</td>\n",
              "      <td>500.0</td>\n",
              "      <td>0.0</td>\n",
              "      <td>0.0</td>\n",
              "      <td>4000.0</td>\n",
              "      <td>...</td>\n",
              "      <td>0.0</td>\n",
              "      <td>0.0</td>\n",
              "      <td>0.0</td>\n",
              "      <td>0.0</td>\n",
              "      <td>0.0</td>\n",
              "      <td>0.0</td>\n",
              "      <td>0.0</td>\n",
              "      <td>0.0</td>\n",
              "      <td>0.0</td>\n",
              "      <td>CT</td>\n",
              "    </tr>\n",
              "    <tr>\n",
              "      <th>1</th>\n",
              "      <td>156.03</td>\n",
              "      <td>0.0</td>\n",
              "      <td>0.0</td>\n",
              "      <td>de_dust2</td>\n",
              "      <td>False</td>\n",
              "      <td>500.0</td>\n",
              "      <td>500.0</td>\n",
              "      <td>400.0</td>\n",
              "      <td>300.0</td>\n",
              "      <td>600.0</td>\n",
              "      <td>...</td>\n",
              "      <td>0.0</td>\n",
              "      <td>0.0</td>\n",
              "      <td>2.0</td>\n",
              "      <td>0.0</td>\n",
              "      <td>0.0</td>\n",
              "      <td>0.0</td>\n",
              "      <td>0.0</td>\n",
              "      <td>0.0</td>\n",
              "      <td>0.0</td>\n",
              "      <td>CT</td>\n",
              "    </tr>\n",
              "    <tr>\n",
              "      <th>2</th>\n",
              "      <td>96.03</td>\n",
              "      <td>0.0</td>\n",
              "      <td>0.0</td>\n",
              "      <td>de_dust2</td>\n",
              "      <td>False</td>\n",
              "      <td>391.0</td>\n",
              "      <td>400.0</td>\n",
              "      <td>294.0</td>\n",
              "      <td>200.0</td>\n",
              "      <td>750.0</td>\n",
              "      <td>...</td>\n",
              "      <td>0.0</td>\n",
              "      <td>0.0</td>\n",
              "      <td>2.0</td>\n",
              "      <td>0.0</td>\n",
              "      <td>0.0</td>\n",
              "      <td>0.0</td>\n",
              "      <td>0.0</td>\n",
              "      <td>0.0</td>\n",
              "      <td>0.0</td>\n",
              "      <td>CT</td>\n",
              "    </tr>\n",
              "    <tr>\n",
              "      <th>3</th>\n",
              "      <td>76.03</td>\n",
              "      <td>0.0</td>\n",
              "      <td>0.0</td>\n",
              "      <td>de_dust2</td>\n",
              "      <td>False</td>\n",
              "      <td>391.0</td>\n",
              "      <td>400.0</td>\n",
              "      <td>294.0</td>\n",
              "      <td>200.0</td>\n",
              "      <td>750.0</td>\n",
              "      <td>...</td>\n",
              "      <td>0.0</td>\n",
              "      <td>0.0</td>\n",
              "      <td>0.0</td>\n",
              "      <td>0.0</td>\n",
              "      <td>0.0</td>\n",
              "      <td>0.0</td>\n",
              "      <td>0.0</td>\n",
              "      <td>0.0</td>\n",
              "      <td>0.0</td>\n",
              "      <td>CT</td>\n",
              "    </tr>\n",
              "    <tr>\n",
              "      <th>4</th>\n",
              "      <td>174.97</td>\n",
              "      <td>1.0</td>\n",
              "      <td>0.0</td>\n",
              "      <td>de_dust2</td>\n",
              "      <td>False</td>\n",
              "      <td>500.0</td>\n",
              "      <td>500.0</td>\n",
              "      <td>192.0</td>\n",
              "      <td>0.0</td>\n",
              "      <td>18350.0</td>\n",
              "      <td>...</td>\n",
              "      <td>0.0</td>\n",
              "      <td>0.0</td>\n",
              "      <td>0.0</td>\n",
              "      <td>0.0</td>\n",
              "      <td>0.0</td>\n",
              "      <td>0.0</td>\n",
              "      <td>0.0</td>\n",
              "      <td>0.0</td>\n",
              "      <td>0.0</td>\n",
              "      <td>CT</td>\n",
              "    </tr>\n",
              "  </tbody>\n",
              "</table>\n",
              "<p>5 rows × 97 columns</p>\n",
              "</div>\n",
              "      <button class=\"colab-df-convert\" onclick=\"convertToInteractive('df-5fce55a1-1bff-4eb3-af0d-e481001dc064')\"\n",
              "              title=\"Convert this dataframe to an interactive table.\"\n",
              "              style=\"display:none;\">\n",
              "        \n",
              "  <svg xmlns=\"http://www.w3.org/2000/svg\" height=\"24px\"viewBox=\"0 0 24 24\"\n",
              "       width=\"24px\">\n",
              "    <path d=\"M0 0h24v24H0V0z\" fill=\"none\"/>\n",
              "    <path d=\"M18.56 5.44l.94 2.06.94-2.06 2.06-.94-2.06-.94-.94-2.06-.94 2.06-2.06.94zm-11 1L8.5 8.5l.94-2.06 2.06-.94-2.06-.94L8.5 2.5l-.94 2.06-2.06.94zm10 10l.94 2.06.94-2.06 2.06-.94-2.06-.94-.94-2.06-.94 2.06-2.06.94z\"/><path d=\"M17.41 7.96l-1.37-1.37c-.4-.4-.92-.59-1.43-.59-.52 0-1.04.2-1.43.59L10.3 9.45l-7.72 7.72c-.78.78-.78 2.05 0 2.83L4 21.41c.39.39.9.59 1.41.59.51 0 1.02-.2 1.41-.59l7.78-7.78 2.81-2.81c.8-.78.8-2.07 0-2.86zM5.41 20L4 18.59l7.72-7.72 1.47 1.35L5.41 20z\"/>\n",
              "  </svg>\n",
              "      </button>\n",
              "      \n",
              "  <style>\n",
              "    .colab-df-container {\n",
              "      display:flex;\n",
              "      flex-wrap:wrap;\n",
              "      gap: 12px;\n",
              "    }\n",
              "\n",
              "    .colab-df-convert {\n",
              "      background-color: #E8F0FE;\n",
              "      border: none;\n",
              "      border-radius: 50%;\n",
              "      cursor: pointer;\n",
              "      display: none;\n",
              "      fill: #1967D2;\n",
              "      height: 32px;\n",
              "      padding: 0 0 0 0;\n",
              "      width: 32px;\n",
              "    }\n",
              "\n",
              "    .colab-df-convert:hover {\n",
              "      background-color: #E2EBFA;\n",
              "      box-shadow: 0px 1px 2px rgba(60, 64, 67, 0.3), 0px 1px 3px 1px rgba(60, 64, 67, 0.15);\n",
              "      fill: #174EA6;\n",
              "    }\n",
              "\n",
              "    [theme=dark] .colab-df-convert {\n",
              "      background-color: #3B4455;\n",
              "      fill: #D2E3FC;\n",
              "    }\n",
              "\n",
              "    [theme=dark] .colab-df-convert:hover {\n",
              "      background-color: #434B5C;\n",
              "      box-shadow: 0px 1px 3px 1px rgba(0, 0, 0, 0.15);\n",
              "      filter: drop-shadow(0px 1px 2px rgba(0, 0, 0, 0.3));\n",
              "      fill: #FFFFFF;\n",
              "    }\n",
              "  </style>\n",
              "\n",
              "      <script>\n",
              "        const buttonEl =\n",
              "          document.querySelector('#df-5fce55a1-1bff-4eb3-af0d-e481001dc064 button.colab-df-convert');\n",
              "        buttonEl.style.display =\n",
              "          google.colab.kernel.accessAllowed ? 'block' : 'none';\n",
              "\n",
              "        async function convertToInteractive(key) {\n",
              "          const element = document.querySelector('#df-5fce55a1-1bff-4eb3-af0d-e481001dc064');\n",
              "          const dataTable =\n",
              "            await google.colab.kernel.invokeFunction('convertToInteractive',\n",
              "                                                     [key], {});\n",
              "          if (!dataTable) return;\n",
              "\n",
              "          const docLinkHtml = 'Like what you see? Visit the ' +\n",
              "            '<a target=\"_blank\" href=https://colab.research.google.com/notebooks/data_table.ipynb>data table notebook</a>'\n",
              "            + ' to learn more about interactive tables.';\n",
              "          element.innerHTML = '';\n",
              "          dataTable['output_type'] = 'display_data';\n",
              "          await google.colab.output.renderOutput(dataTable, element);\n",
              "          const docLink = document.createElement('div');\n",
              "          docLink.innerHTML = docLinkHtml;\n",
              "          element.appendChild(docLink);\n",
              "        }\n",
              "      </script>\n",
              "    </div>\n",
              "  </div>\n",
              "  "
            ]
          },
          "metadata": {},
          "execution_count": 49
        }
      ],
      "source": [
        "dataframe = pd.read_csv('/content/drive/MyDrive/TKH/Year 3/Machine Learning/csgo_round_snapshots.csv')\n",
        "df = pd.DataFrame(dataframe)\n",
        "\n",
        "df.head()"
      ]
    },
    {
      "cell_type": "code",
      "source": [
        "df = df.sample(frac=1).reset_index() # shuffling the dataset\n",
        "\n",
        "df = df.drop(df.iloc[:, :1], axis=1) # removing the index column created by shuffling\n",
        "df = df.drop(df.iloc[:, 3:4], axis=1) # removing the map name column\n",
        "df = df.drop(df.iloc[:, 15:-1], axis=1) # removing the weapon columns\n",
        "\n",
        "x = df.iloc[:,:-1].values # selecting the independent variable\n",
        "y = df.iloc[:,-1].values # selecting the dependent variable (round_winner)\n",
        "\n",
        "df.head()"
      ],
      "metadata": {
        "colab": {
          "base_uri": "https://localhost:8080/",
          "height": 250
        },
        "id": "s_FUygcUvOyR",
        "outputId": "a833463b-a776-462c-cbf9-9b1936d3402c"
      },
      "execution_count": 50,
      "outputs": [
        {
          "output_type": "execute_result",
          "data": {
            "text/plain": [
              "   time_left  ct_score  t_score  bomb_planted  ct_health  t_health  ct_armor  \\\n",
              "0     175.00       0.0      5.0         False      500.0     500.0     400.0   \n",
              "1      54.96       7.0      0.0         False      400.0     452.0     391.0   \n",
              "2      34.02      12.0      7.0          True      300.0     305.0       0.0   \n",
              "3      94.95       1.0      0.0         False      500.0     500.0     500.0   \n",
              "4      93.45      10.0      5.0         False      500.0     500.0     500.0   \n",
              "\n",
              "   t_armor  ct_money  t_money  ct_helmets  t_helmets  ct_defuse_kits  \\\n",
              "0    468.0    7900.0  30700.0         4.0        5.0             2.0   \n",
              "1    499.0   20650.0   1950.0         4.0        5.0             3.0   \n",
              "2    358.0    8350.0   3300.0         0.0        4.0             1.0   \n",
              "3      0.0     400.0   8200.0         5.0        0.0             1.0   \n",
              "4    300.0     750.0    600.0         0.0        0.0             0.0   \n",
              "\n",
              "   ct_players_alive  t_players_alive round_winner  \n",
              "0               5.0              5.0           CT  \n",
              "1               4.0              5.0            T  \n",
              "2               3.0              4.0            T  \n",
              "3               5.0              5.0           CT  \n",
              "4               5.0              5.0            T  "
            ],
            "text/html": [
              "\n",
              "  <div id=\"df-4c1c3125-cd05-44c3-b8b5-36755b67cc4d\">\n",
              "    <div class=\"colab-df-container\">\n",
              "      <div>\n",
              "<style scoped>\n",
              "    .dataframe tbody tr th:only-of-type {\n",
              "        vertical-align: middle;\n",
              "    }\n",
              "\n",
              "    .dataframe tbody tr th {\n",
              "        vertical-align: top;\n",
              "    }\n",
              "\n",
              "    .dataframe thead th {\n",
              "        text-align: right;\n",
              "    }\n",
              "</style>\n",
              "<table border=\"1\" class=\"dataframe\">\n",
              "  <thead>\n",
              "    <tr style=\"text-align: right;\">\n",
              "      <th></th>\n",
              "      <th>time_left</th>\n",
              "      <th>ct_score</th>\n",
              "      <th>t_score</th>\n",
              "      <th>bomb_planted</th>\n",
              "      <th>ct_health</th>\n",
              "      <th>t_health</th>\n",
              "      <th>ct_armor</th>\n",
              "      <th>t_armor</th>\n",
              "      <th>ct_money</th>\n",
              "      <th>t_money</th>\n",
              "      <th>ct_helmets</th>\n",
              "      <th>t_helmets</th>\n",
              "      <th>ct_defuse_kits</th>\n",
              "      <th>ct_players_alive</th>\n",
              "      <th>t_players_alive</th>\n",
              "      <th>round_winner</th>\n",
              "    </tr>\n",
              "  </thead>\n",
              "  <tbody>\n",
              "    <tr>\n",
              "      <th>0</th>\n",
              "      <td>175.00</td>\n",
              "      <td>0.0</td>\n",
              "      <td>5.0</td>\n",
              "      <td>False</td>\n",
              "      <td>500.0</td>\n",
              "      <td>500.0</td>\n",
              "      <td>400.0</td>\n",
              "      <td>468.0</td>\n",
              "      <td>7900.0</td>\n",
              "      <td>30700.0</td>\n",
              "      <td>4.0</td>\n",
              "      <td>5.0</td>\n",
              "      <td>2.0</td>\n",
              "      <td>5.0</td>\n",
              "      <td>5.0</td>\n",
              "      <td>CT</td>\n",
              "    </tr>\n",
              "    <tr>\n",
              "      <th>1</th>\n",
              "      <td>54.96</td>\n",
              "      <td>7.0</td>\n",
              "      <td>0.0</td>\n",
              "      <td>False</td>\n",
              "      <td>400.0</td>\n",
              "      <td>452.0</td>\n",
              "      <td>391.0</td>\n",
              "      <td>499.0</td>\n",
              "      <td>20650.0</td>\n",
              "      <td>1950.0</td>\n",
              "      <td>4.0</td>\n",
              "      <td>5.0</td>\n",
              "      <td>3.0</td>\n",
              "      <td>4.0</td>\n",
              "      <td>5.0</td>\n",
              "      <td>T</td>\n",
              "    </tr>\n",
              "    <tr>\n",
              "      <th>2</th>\n",
              "      <td>34.02</td>\n",
              "      <td>12.0</td>\n",
              "      <td>7.0</td>\n",
              "      <td>True</td>\n",
              "      <td>300.0</td>\n",
              "      <td>305.0</td>\n",
              "      <td>0.0</td>\n",
              "      <td>358.0</td>\n",
              "      <td>8350.0</td>\n",
              "      <td>3300.0</td>\n",
              "      <td>0.0</td>\n",
              "      <td>4.0</td>\n",
              "      <td>1.0</td>\n",
              "      <td>3.0</td>\n",
              "      <td>4.0</td>\n",
              "      <td>T</td>\n",
              "    </tr>\n",
              "    <tr>\n",
              "      <th>3</th>\n",
              "      <td>94.95</td>\n",
              "      <td>1.0</td>\n",
              "      <td>0.0</td>\n",
              "      <td>False</td>\n",
              "      <td>500.0</td>\n",
              "      <td>500.0</td>\n",
              "      <td>500.0</td>\n",
              "      <td>0.0</td>\n",
              "      <td>400.0</td>\n",
              "      <td>8200.0</td>\n",
              "      <td>5.0</td>\n",
              "      <td>0.0</td>\n",
              "      <td>1.0</td>\n",
              "      <td>5.0</td>\n",
              "      <td>5.0</td>\n",
              "      <td>CT</td>\n",
              "    </tr>\n",
              "    <tr>\n",
              "      <th>4</th>\n",
              "      <td>93.45</td>\n",
              "      <td>10.0</td>\n",
              "      <td>5.0</td>\n",
              "      <td>False</td>\n",
              "      <td>500.0</td>\n",
              "      <td>500.0</td>\n",
              "      <td>500.0</td>\n",
              "      <td>300.0</td>\n",
              "      <td>750.0</td>\n",
              "      <td>600.0</td>\n",
              "      <td>0.0</td>\n",
              "      <td>0.0</td>\n",
              "      <td>0.0</td>\n",
              "      <td>5.0</td>\n",
              "      <td>5.0</td>\n",
              "      <td>T</td>\n",
              "    </tr>\n",
              "  </tbody>\n",
              "</table>\n",
              "</div>\n",
              "      <button class=\"colab-df-convert\" onclick=\"convertToInteractive('df-4c1c3125-cd05-44c3-b8b5-36755b67cc4d')\"\n",
              "              title=\"Convert this dataframe to an interactive table.\"\n",
              "              style=\"display:none;\">\n",
              "        \n",
              "  <svg xmlns=\"http://www.w3.org/2000/svg\" height=\"24px\"viewBox=\"0 0 24 24\"\n",
              "       width=\"24px\">\n",
              "    <path d=\"M0 0h24v24H0V0z\" fill=\"none\"/>\n",
              "    <path d=\"M18.56 5.44l.94 2.06.94-2.06 2.06-.94-2.06-.94-.94-2.06-.94 2.06-2.06.94zm-11 1L8.5 8.5l.94-2.06 2.06-.94-2.06-.94L8.5 2.5l-.94 2.06-2.06.94zm10 10l.94 2.06.94-2.06 2.06-.94-2.06-.94-.94-2.06-.94 2.06-2.06.94z\"/><path d=\"M17.41 7.96l-1.37-1.37c-.4-.4-.92-.59-1.43-.59-.52 0-1.04.2-1.43.59L10.3 9.45l-7.72 7.72c-.78.78-.78 2.05 0 2.83L4 21.41c.39.39.9.59 1.41.59.51 0 1.02-.2 1.41-.59l7.78-7.78 2.81-2.81c.8-.78.8-2.07 0-2.86zM5.41 20L4 18.59l7.72-7.72 1.47 1.35L5.41 20z\"/>\n",
              "  </svg>\n",
              "      </button>\n",
              "      \n",
              "  <style>\n",
              "    .colab-df-container {\n",
              "      display:flex;\n",
              "      flex-wrap:wrap;\n",
              "      gap: 12px;\n",
              "    }\n",
              "\n",
              "    .colab-df-convert {\n",
              "      background-color: #E8F0FE;\n",
              "      border: none;\n",
              "      border-radius: 50%;\n",
              "      cursor: pointer;\n",
              "      display: none;\n",
              "      fill: #1967D2;\n",
              "      height: 32px;\n",
              "      padding: 0 0 0 0;\n",
              "      width: 32px;\n",
              "    }\n",
              "\n",
              "    .colab-df-convert:hover {\n",
              "      background-color: #E2EBFA;\n",
              "      box-shadow: 0px 1px 2px rgba(60, 64, 67, 0.3), 0px 1px 3px 1px rgba(60, 64, 67, 0.15);\n",
              "      fill: #174EA6;\n",
              "    }\n",
              "\n",
              "    [theme=dark] .colab-df-convert {\n",
              "      background-color: #3B4455;\n",
              "      fill: #D2E3FC;\n",
              "    }\n",
              "\n",
              "    [theme=dark] .colab-df-convert:hover {\n",
              "      background-color: #434B5C;\n",
              "      box-shadow: 0px 1px 3px 1px rgba(0, 0, 0, 0.15);\n",
              "      filter: drop-shadow(0px 1px 2px rgba(0, 0, 0, 0.3));\n",
              "      fill: #FFFFFF;\n",
              "    }\n",
              "  </style>\n",
              "\n",
              "      <script>\n",
              "        const buttonEl =\n",
              "          document.querySelector('#df-4c1c3125-cd05-44c3-b8b5-36755b67cc4d button.colab-df-convert');\n",
              "        buttonEl.style.display =\n",
              "          google.colab.kernel.accessAllowed ? 'block' : 'none';\n",
              "\n",
              "        async function convertToInteractive(key) {\n",
              "          const element = document.querySelector('#df-4c1c3125-cd05-44c3-b8b5-36755b67cc4d');\n",
              "          const dataTable =\n",
              "            await google.colab.kernel.invokeFunction('convertToInteractive',\n",
              "                                                     [key], {});\n",
              "          if (!dataTable) return;\n",
              "\n",
              "          const docLinkHtml = 'Like what you see? Visit the ' +\n",
              "            '<a target=\"_blank\" href=https://colab.research.google.com/notebooks/data_table.ipynb>data table notebook</a>'\n",
              "            + ' to learn more about interactive tables.';\n",
              "          element.innerHTML = '';\n",
              "          dataTable['output_type'] = 'display_data';\n",
              "          await google.colab.output.renderOutput(dataTable, element);\n",
              "          const docLink = document.createElement('div');\n",
              "          docLink.innerHTML = docLinkHtml;\n",
              "          element.appendChild(docLink);\n",
              "        }\n",
              "      </script>\n",
              "    </div>\n",
              "  </div>\n",
              "  "
            ]
          },
          "metadata": {},
          "execution_count": 50
        }
      ]
    },
    {
      "cell_type": "markdown",
      "metadata": {
        "id": "0Sf3iNoxF9h1"
      },
      "source": [
        "### **creating train/test split**"
      ]
    },
    {
      "cell_type": "code",
      "execution_count": 51,
      "metadata": {
        "id": "CGMDNZoJF9h2",
        "colab": {
          "base_uri": "https://localhost:8080/"
        },
        "outputId": "84f0f0e6-6e82-48a2-8b5d-b3d23e391370"
      },
      "outputs": [
        {
          "output_type": "stream",
          "name": "stdout",
          "text": [
            "xtrain: \n",
            " [[54.91 5.0 2.0 ... 2.0 4.0 4.0]\n",
            " [54.95 6.0 4.0 ... 0.0 4.0 4.0]\n",
            " [174.91 1.0 0.0 ... 0.0 5.0 5.0]\n",
            " ...\n",
            " [175.0 9.0 6.0 ... 0.0 5.0 5.0]\n",
            " [49.89 12.0 9.0 ... 4.0 5.0 2.0]\n",
            " [174.95 14.0 9.0 ... 0.0 5.0 5.0]]\n",
            "\n",
            "xtest: \n",
            " [[6.3 6.0 2.0 ... 1.0 1.0 0.0]\n",
            " [109.95 11.0 11.0 ... 1.0 5.0 5.0]\n",
            " [114.88 15.0 8.0 ... 3.0 5.0 5.0]\n",
            " ...\n",
            " [174.91 9.0 1.0 ... 3.0 5.0 5.0]\n",
            " [34.95 4.0 5.0 ... 2.0 2.0 1.0]\n",
            " [74.95 9.0 2.0 ... 1.0 2.0 5.0]]\n",
            "\n",
            "ytrain: \n",
            " ['CT' 'T' 'CT' ... 'CT' 'CT' 'T']\n",
            "\n",
            "ytest: \n",
            " ['CT' 'T' 'CT' ... 'CT' 'CT' 'T']\n"
          ]
        }
      ],
      "source": [
        "from sklearn.model_selection import train_test_split\n",
        "\n",
        "xtrain, xtest, ytrain, ytest = train_test_split(x, y, test_size=0.25, random_state=0)\n",
        "\n",
        "print(\"xtrain: \\n\", xtrain)\n",
        "print(\"\\nxtest: \\n\", xtest)\n",
        "print(\"\\nytrain: \\n\", ytrain)\n",
        "print(\"\\nytest: \\n\", ytest)"
      ]
    },
    {
      "cell_type": "markdown",
      "metadata": {
        "id": "dnnJMdo9F9h3"
      },
      "source": [
        "### **encoding: bomb_planted and round_winner**"
      ]
    },
    {
      "cell_type": "code",
      "execution_count": 52,
      "metadata": {
        "colab": {
          "base_uri": "https://localhost:8080/"
        },
        "id": "BAcH12zjF9h3",
        "outputId": "8d859421-d35d-4d08-84b6-1dce04f48568"
      },
      "outputs": [
        {
          "output_type": "stream",
          "name": "stdout",
          "text": [
            "bomb_planted selection:\n",
            "[False False False ... False False False]\n",
            "[True False False ... False False False] \n",
            "\n",
            "round winner selection:\n",
            "['CT' 'T' 'CT' ... 'CT' 'CT' 'T']\n",
            "['CT' 'T' 'CT' ... 'CT' 'CT' 'T'] \n",
            "\n",
            "bomb_planted encoding:\n",
            "[0 0 0 ... 0 0 0]\n",
            "[1 0 0 ... 0 0 0] \n",
            "\n",
            "round_winner encoding:\n",
            "[0 1 0 ... 0 0 1]\n",
            "[0 1 0 ... 0 0 1]\n"
          ]
        }
      ],
      "source": [
        "from sklearn.preprocessing import LabelEncoder\n",
        "\n",
        "encoder = LabelEncoder()\n",
        "\n",
        "print(\"bomb_planted selection:\")\n",
        "print(xtrain[:,3])\n",
        "print(xtest[:,3],\"\\n\")\n",
        "\n",
        "print(\"round winner selection:\")\n",
        "print(ytrain)\n",
        "print(ytest,\"\\n\")\n",
        "\n",
        "\n",
        "# bomb_planted\n",
        "xtrain[:,3] = encoder.fit_transform(xtrain[:,3])\n",
        "xtest[:,3] = encoder.transform(xtest[:,3])\n",
        "\n",
        "# round_winner \n",
        "ytrain = encoder.fit_transform(ytrain)\n",
        "ytest = encoder.transform(ytest)\n",
        "\n",
        "\n",
        "print(\"bomb_planted encoding:\")\n",
        "print(xtrain[:,3])\n",
        "print(xtest[:,3],\"\\n\")\n",
        "\n",
        "print(\"round_winner encoding:\")\n",
        "print(ytrain)\n",
        "print(ytest)"
      ]
    },
    {
      "cell_type": "markdown",
      "metadata": {
        "id": "yfp33NTGF9h3"
      },
      "source": [
        "### **feature scaling**"
      ]
    },
    {
      "cell_type": "code",
      "execution_count": 53,
      "metadata": {
        "id": "I4PtV2MTF9h3"
      },
      "outputs": [],
      "source": [
        "from sklearn.preprocessing import StandardScaler\n",
        "\n",
        "scaler = StandardScaler()\n",
        "\n",
        "xtrain[:,:3] = scaler.fit_transform(xtrain[:,:3])\n",
        "xtest[:,:3] = scaler.fit_transform(xtest[:,:3])\n",
        "\n",
        "xtrain[:,4:15] = scaler.fit_transform(xtrain[:,4:15])\n",
        "xtest[:,4:15] = scaler.fit_transform(xtest[:,4:15])"
      ]
    },
    {
      "cell_type": "markdown",
      "source": [
        "## **machine learning models**"
      ],
      "metadata": {
        "id": "ZEzHNiATH-AQ"
      }
    },
    {
      "cell_type": "markdown",
      "source": [
        "### **artificial neural network (ReLU, sigmoid activation)**"
      ],
      "metadata": {
        "id": "we21-MWSeu6z"
      }
    },
    {
      "cell_type": "code",
      "source": [
        "modelANN = tf.keras.models.Sequential()\n",
        "\n",
        "modelANN.add(tf.keras.layers.Dense(units=16, activation=\"relu\"))\n",
        "modelANN.add(tf.keras.layers.Dense(units=8, activation=\"relu\"))\n",
        "modelANN.add(tf.keras.layers.Dense(units=4, activation=\"relu\"))\n",
        "modelANN.add(tf.keras.layers.Dense(units=2, activation=\"relu\"))\n",
        "modelANN.add(tf.keras.layers.Dense(units=1, activation=\"sigmoid\"))"
      ],
      "metadata": {
        "id": "iGxzSzTsAud8"
      },
      "execution_count": 54,
      "outputs": []
    },
    {
      "cell_type": "code",
      "source": [
        "modelANN.compile(optimizer=tf.keras.optimizers.Adam(learning_rate=0.001), loss=\"binary_crossentropy\", metrics=[\"accuracy\"])"
      ],
      "metadata": {
        "id": "UKa7IwELCQlR"
      },
      "execution_count": 55,
      "outputs": []
    },
    {
      "cell_type": "code",
      "source": [
        "xtrainANN = np.asarray(xtrain).astype(np.float32)\n",
        "ytrainANN = np.asarray(ytrain).astype(np.float32)\n",
        "\n",
        "xtestANN = np.asarray(xtest).astype(np.float32)\n",
        "ytestANN = np.asarray(ytest).astype(np.float32)"
      ],
      "metadata": {
        "id": "rEtXo-y7TJLC"
      },
      "execution_count": 56,
      "outputs": []
    },
    {
      "cell_type": "code",
      "source": [
        "earlystoppingANN = tf.keras.callbacks.EarlyStopping(monitor=\"val_accuracy\", mode='max', verbose=1, patience=10\n",
        "                                                    )\n",
        "historyANN = modelANN.fit(xtrainANN, ytrainANN, batch_size=32, epochs=100, validation_split=0.3, callbacks=[earlystoppingANN])"
      ],
      "metadata": {
        "id": "emSwmb3EFthj",
        "colab": {
          "base_uri": "https://localhost:8080/"
        },
        "outputId": "6a1e236e-6d2e-4f7d-e2fa-af87dcb3758f"
      },
      "execution_count": 57,
      "outputs": [
        {
          "output_type": "stream",
          "name": "stdout",
          "text": [
            "Epoch 1/100\n",
            "2009/2009 [==============================] - 7s 3ms/step - loss: 0.5318 - accuracy: 0.7378 - val_loss: 0.4937 - val_accuracy: 0.7477\n",
            "Epoch 2/100\n",
            "2009/2009 [==============================] - 8s 4ms/step - loss: 0.4808 - accuracy: 0.7479 - val_loss: 0.4765 - val_accuracy: 0.7492\n",
            "Epoch 3/100\n",
            "2009/2009 [==============================] - 8s 4ms/step - loss: 0.4690 - accuracy: 0.7523 - val_loss: 0.4697 - val_accuracy: 0.7502\n",
            "Epoch 4/100\n",
            "2009/2009 [==============================] - 6s 3ms/step - loss: 0.4644 - accuracy: 0.7506 - val_loss: 0.4664 - val_accuracy: 0.7479\n",
            "Epoch 5/100\n",
            "2009/2009 [==============================] - 6s 3ms/step - loss: 0.4611 - accuracy: 0.7519 - val_loss: 0.4661 - val_accuracy: 0.7490\n",
            "Epoch 6/100\n",
            "2009/2009 [==============================] - 6s 3ms/step - loss: 0.4592 - accuracy: 0.7537 - val_loss: 0.4631 - val_accuracy: 0.7487\n",
            "Epoch 7/100\n",
            "2009/2009 [==============================] - 7s 4ms/step - loss: 0.4576 - accuracy: 0.7542 - val_loss: 0.4630 - val_accuracy: 0.7494\n",
            "Epoch 8/100\n",
            "2009/2009 [==============================] - 6s 3ms/step - loss: 0.4565 - accuracy: 0.7542 - val_loss: 0.4632 - val_accuracy: 0.7490\n",
            "Epoch 9/100\n",
            "2009/2009 [==============================] - 6s 3ms/step - loss: 0.4554 - accuracy: 0.7540 - val_loss: 0.4608 - val_accuracy: 0.7493\n",
            "Epoch 10/100\n",
            "2009/2009 [==============================] - 6s 3ms/step - loss: 0.4545 - accuracy: 0.7544 - val_loss: 0.4591 - val_accuracy: 0.7487\n",
            "Epoch 11/100\n",
            "2009/2009 [==============================] - 6s 3ms/step - loss: 0.4534 - accuracy: 0.7544 - val_loss: 0.4597 - val_accuracy: 0.7496\n",
            "Epoch 12/100\n",
            "2009/2009 [==============================] - 5s 3ms/step - loss: 0.4527 - accuracy: 0.7561 - val_loss: 0.4587 - val_accuracy: 0.7498\n",
            "Epoch 13/100\n",
            "2009/2009 [==============================] - 6s 3ms/step - loss: 0.4519 - accuracy: 0.7562 - val_loss: 0.4589 - val_accuracy: 0.7504\n",
            "Epoch 14/100\n",
            "2009/2009 [==============================] - 6s 3ms/step - loss: 0.4512 - accuracy: 0.7560 - val_loss: 0.4578 - val_accuracy: 0.7516\n",
            "Epoch 15/100\n",
            "2009/2009 [==============================] - 6s 3ms/step - loss: 0.4508 - accuracy: 0.7573 - val_loss: 0.4589 - val_accuracy: 0.7492\n",
            "Epoch 16/100\n",
            "2009/2009 [==============================] - 6s 3ms/step - loss: 0.4502 - accuracy: 0.7567 - val_loss: 0.4561 - val_accuracy: 0.7523\n",
            "Epoch 17/100\n",
            "2009/2009 [==============================] - 6s 3ms/step - loss: 0.4498 - accuracy: 0.7580 - val_loss: 0.4591 - val_accuracy: 0.7493\n",
            "Epoch 18/100\n",
            "2009/2009 [==============================] - 6s 3ms/step - loss: 0.4493 - accuracy: 0.7569 - val_loss: 0.4557 - val_accuracy: 0.7522\n",
            "Epoch 19/100\n",
            "2009/2009 [==============================] - 6s 3ms/step - loss: 0.4492 - accuracy: 0.7585 - val_loss: 0.4542 - val_accuracy: 0.7507\n",
            "Epoch 20/100\n",
            "2009/2009 [==============================] - 6s 3ms/step - loss: 0.4486 - accuracy: 0.7572 - val_loss: 0.4543 - val_accuracy: 0.7529\n",
            "Epoch 21/100\n",
            "2009/2009 [==============================] - 6s 3ms/step - loss: 0.4484 - accuracy: 0.7574 - val_loss: 0.4544 - val_accuracy: 0.7531\n",
            "Epoch 22/100\n",
            "2009/2009 [==============================] - 6s 3ms/step - loss: 0.4477 - accuracy: 0.7571 - val_loss: 0.4550 - val_accuracy: 0.7496\n",
            "Epoch 23/100\n",
            "2009/2009 [==============================] - 6s 3ms/step - loss: 0.4474 - accuracy: 0.7580 - val_loss: 0.4532 - val_accuracy: 0.7518\n",
            "Epoch 24/100\n",
            "2009/2009 [==============================] - 6s 3ms/step - loss: 0.4472 - accuracy: 0.7582 - val_loss: 0.4548 - val_accuracy: 0.7518\n",
            "Epoch 25/100\n",
            "2009/2009 [==============================] - 6s 3ms/step - loss: 0.4470 - accuracy: 0.7573 - val_loss: 0.4524 - val_accuracy: 0.7505\n",
            "Epoch 26/100\n",
            "2009/2009 [==============================] - 6s 3ms/step - loss: 0.4467 - accuracy: 0.7583 - val_loss: 0.4552 - val_accuracy: 0.7529\n",
            "Epoch 27/100\n",
            "2009/2009 [==============================] - 6s 3ms/step - loss: 0.4467 - accuracy: 0.7575 - val_loss: 0.4550 - val_accuracy: 0.7491\n",
            "Epoch 28/100\n",
            "2009/2009 [==============================] - 6s 3ms/step - loss: 0.4465 - accuracy: 0.7570 - val_loss: 0.4528 - val_accuracy: 0.7532\n",
            "Epoch 29/100\n",
            "2009/2009 [==============================] - 6s 3ms/step - loss: 0.4458 - accuracy: 0.7584 - val_loss: 0.4598 - val_accuracy: 0.7494\n",
            "Epoch 30/100\n",
            "2009/2009 [==============================] - 6s 3ms/step - loss: 0.4457 - accuracy: 0.7584 - val_loss: 0.4522 - val_accuracy: 0.7490\n",
            "Epoch 31/100\n",
            "2009/2009 [==============================] - 6s 3ms/step - loss: 0.4454 - accuracy: 0.7559 - val_loss: 0.4539 - val_accuracy: 0.7517\n",
            "Epoch 32/100\n",
            "2009/2009 [==============================] - 5s 3ms/step - loss: 0.4454 - accuracy: 0.7578 - val_loss: 0.4518 - val_accuracy: 0.7523\n",
            "Epoch 33/100\n",
            "2009/2009 [==============================] - 6s 3ms/step - loss: 0.4449 - accuracy: 0.7572 - val_loss: 0.4525 - val_accuracy: 0.7492\n",
            "Epoch 34/100\n",
            "2009/2009 [==============================] - 6s 3ms/step - loss: 0.4448 - accuracy: 0.7589 - val_loss: 0.4565 - val_accuracy: 0.7503\n",
            "Epoch 35/100\n",
            "2009/2009 [==============================] - 6s 3ms/step - loss: 0.4447 - accuracy: 0.7581 - val_loss: 0.4521 - val_accuracy: 0.7517\n",
            "Epoch 36/100\n",
            "2009/2009 [==============================] - 5s 3ms/step - loss: 0.4444 - accuracy: 0.7589 - val_loss: 0.4536 - val_accuracy: 0.7506\n",
            "Epoch 37/100\n",
            "2009/2009 [==============================] - 6s 3ms/step - loss: 0.4445 - accuracy: 0.7578 - val_loss: 0.4513 - val_accuracy: 0.7509\n",
            "Epoch 38/100\n",
            "2009/2009 [==============================] - 6s 3ms/step - loss: 0.4443 - accuracy: 0.7574 - val_loss: 0.4519 - val_accuracy: 0.7523\n",
            "Epoch 38: early stopping\n"
          ]
        }
      ]
    },
    {
      "cell_type": "code",
      "source": [
        "import matplotlib.pyplot as plt\n",
        "\n",
        "plt.plot(historyANN.history['accuracy'])\n",
        "plt.plot(historyANN.history['val_accuracy'])\n",
        "\n",
        "plt.title('ANN accuracy')\n",
        "plt.ylabel('accuracy')\n",
        "plt.xlabel('epoch')\n",
        "\n",
        "plt.legend(['train', 'validation'], loc='upper left')\n",
        "\n",
        "plt.show()"
      ],
      "metadata": {
        "colab": {
          "base_uri": "https://localhost:8080/",
          "height": 295
        },
        "id": "WB3qYDcEDEBz",
        "outputId": "fc0953b6-8ebf-46ca-8300-80cd5c695c52"
      },
      "execution_count": 58,
      "outputs": [
        {
          "output_type": "display_data",
          "data": {
            "text/plain": [
              "<Figure size 432x288 with 1 Axes>"
            ],
            "image/png": "[encoded data removed]"
          },
          "metadata": {
            "needs_background": "light"
          }
        }
      ]
    },
    {
      "cell_type": "code",
      "source": [
        "plt.plot(historyANN.history['loss'])\n",
        "plt.plot(historyANN.history['val_loss'])\n",
        "\n",
        "plt.title('ANN loss')\n",
        "plt.ylabel('loss')\n",
        "plt.xlabel('epoch')\n",
        "\n",
        "plt.legend(['train', 'validation'], loc='upper left')\n",
        "\n",
        "plt.show()"
      ],
      "metadata": {
        "colab": {
          "base_uri": "https://localhost:8080/",
          "height": 295
        },
        "id": "ie6JULDsJXLg",
        "outputId": "1c16f4b6-2d28-45f3-8b95-11de14ae9719"
      },
      "execution_count": 59,
      "outputs": [
        {
          "output_type": "display_data",
          "data": {
            "text/plain": [
              "<Figure size 432x288 with 1 Axes>"
            ],
            "image/png": "[encoded data removed]"
          },
          "metadata": {
            "needs_background": "light"
          }
        }
      ]
    },
    {
      "cell_type": "code",
      "source": [
        "modelANN.summary()"
      ],
      "metadata": {
        "id": "cnKctd2yVhTa",
        "colab": {
          "base_uri": "https://localhost:8080/"
        },
        "outputId": "0e171d5c-71f7-4cfd-ed0c-222fc35ae5a7"
      },
      "execution_count": 60,
      "outputs": [
        {
          "output_type": "stream",
          "name": "stdout",
          "text": [
            "Model: \"sequential_1\"\n",
            "_________________________________________________________________\n",
            " Layer (type)                Output Shape              Param #   \n",
            "=================================================================\n",
            " dense_5 (Dense)             (None, 16)                256       \n",
            "                                                                 \n",
            " dense_6 (Dense)             (None, 8)                 136       \n",
            "                                                                 \n",
            " dense_7 (Dense)             (None, 4)                 36        \n",
            "                                                                 \n",
            " dense_8 (Dense)             (None, 2)                 10        \n",
            "                                                                 \n",
            " dense_9 (Dense)             (None, 1)                 3         \n",
            "                                                                 \n",
            "=================================================================\n",
            "Total params: 441\n",
            "Trainable params: 441\n",
            "Non-trainable params: 0\n",
            "_________________________________________________________________\n"
          ]
        }
      ]
    },
    {
      "cell_type": "code",
      "source": [
        "ypredictANN = modelANN.predict(xtestANN)\n",
        "ypredictANN = (ypredictANN > 0.5)"
      ],
      "metadata": {
        "id": "Z_DunxhWVptO",
        "colab": {
          "base_uri": "https://localhost:8080/"
        },
        "outputId": "edcf56f9-3998-4d3c-b876-ad87ab9407e1"
      },
      "execution_count": 61,
      "outputs": [
        {
          "output_type": "stream",
          "name": "stdout",
          "text": [
            "957/957 [==============================] - 1s 1ms/step\n"
          ]
        }
      ]
    },
    {
      "cell_type": "code",
      "source": [
        "from sklearn.metrics import accuracy_score, recall_score, precision_score, f1_score\n",
        "\n",
        "accuracyANN = accuracy_score(ytest, ypredictANN)\n",
        "recallANN = recall_score(ytest, ypredictANN)\n",
        "precisionANN = precision_score(ytest, ypredictANN)\n",
        "f1ANN = f1_score(ytest, ypredictANN)\n",
        "\n",
        "print(\"Artificial Neural Network Accuracy:\\n\", accuracyANN)\n",
        "print(\"\\nArtificial Neural Network Recall:\\n\", recallANN)\n",
        "print(\"\\nArtificial Neural Network Precision:\\n\", precisionANN)\n",
        "print(\"\\nArtificial Neural Network F1:\\n\", f1ANN)"
      ],
      "metadata": {
        "id": "1d2Ol0ZaYAWZ",
        "colab": {
          "base_uri": "https://localhost:8080/"
        },
        "outputId": "b06b8b94-a310-464a-d43e-038248b357b4"
      },
      "execution_count": 62,
      "outputs": [
        {
          "output_type": "stream",
          "name": "stdout",
          "text": [
            "Artificial Neural Network Accuracy:\n",
            " 0.7488481521419469\n",
            "\n",
            "Artificial Neural Network Recall:\n",
            " 0.6985368956743002\n",
            "\n",
            "Artificial Neural Network Precision:\n",
            " 0.7884118322802987\n",
            "\n",
            "Artificial Neural Network F1:\n",
            " 0.7407582298974636\n"
          ]
        }
      ]
    },
    {
      "cell_type": "markdown",
      "source": [
        "### **support vector machine**"
      ],
      "metadata": {
        "id": "TnGH5m56O-Y0"
      }
    },
    {
      "cell_type": "code",
      "source": [
        "from sklearn.svm import SVC\n",
        "\n",
        "classifierSVM = SVC(C=1, gamma=0.05, kernel=\"linear\", random_state=0)\n",
        "classifierSVM.fit(xtrain, ytrain)"
      ],
      "metadata": {
        "id": "BBpQx6GSPT0i",
        "colab": {
          "base_uri": "https://localhost:8080/"
        },
        "outputId": "fc7b5886-3d9a-4e03-e15b-efec21efdd67"
      },
      "execution_count": 63,
      "outputs": [
        {
          "output_type": "execute_result",
          "data": {
            "text/plain": [
              "SVC(C=1, gamma=0.05, kernel='linear', random_state=0)"
            ]
          },
          "metadata": {},
          "execution_count": 63
        }
      ]
    },
    {
      "cell_type": "code",
      "source": [
        "ypredictSVM = classifierSVM.predict(xtest)"
      ],
      "metadata": {
        "id": "dHdOkJvOPtZa"
      },
      "execution_count": 64,
      "outputs": []
    },
    {
      "cell_type": "code",
      "source": [
        "from sklearn.metrics import accuracy_score, recall_score, precision_score, f1_score\n",
        "\n",
        "accuracySVM = accuracy_score(ytest, ypredictSVM)\n",
        "recallSVM = recall_score(ytest, ypredictSVM)\n",
        "precisionSVM = precision_score(ytest, ypredictSVM)\n",
        "f1SVM = f1_score(ytest, ypredictSVM)\n",
        "\n",
        "print(\"Support Vector Machine Accuracy:\\n\", accuracySVM)\n",
        "print(\"\\nSupport Vector Machine Recall:\\n\", recallSVM)\n",
        "print(\"\\nSupport Vector Machine Precision:\\n\", precisionSVM)\n",
        "print(\"\\nSupport Vector Machine F1:\\n\", f1SVM)"
      ],
      "metadata": {
        "id": "kciaYVA7a_ss",
        "colab": {
          "base_uri": "https://localhost:8080/"
        },
        "outputId": "702fb25e-2995-4a71-e163-f1de50e032fe"
      },
      "execution_count": 65,
      "outputs": [
        {
          "output_type": "stream",
          "name": "stdout",
          "text": [
            "Support Vector Machine Accuracy:\n",
            " 0.7441427311047937\n",
            "\n",
            "Support Vector Machine Recall:\n",
            " 0.7307888040712468\n",
            "\n",
            "Support Vector Machine Precision:\n",
            " 0.7615007291528569\n",
            "\n",
            "Support Vector Machine F1:\n",
            " 0.7458287346620788\n"
          ]
        }
      ]
    },
    {
      "cell_type": "markdown",
      "source": [
        "### **random forest**"
      ],
      "metadata": {
        "id": "VaBAt0QpuQHD"
      }
    },
    {
      "cell_type": "code",
      "source": [
        "from sklearn.ensemble import RandomForestClassifier\n",
        "from sklearn.model_selection import GridSearchCV\n",
        "\n",
        "grid = {'n_estimators' : [20, 30, 40],\n",
        "    'max_features' : ['sqrt'],\n",
        "    'max_depth' : [16, 32, 64],\n",
        "    'criterion': ['gini', 'entropy'],\n",
        "    'random_state':[0]\n",
        "    }\n",
        "\n",
        "gridSearchRF = GridSearchCV(estimator=RandomForestClassifier(), param_grid=grid, scoring='accuracy', cv=10, n_jobs=-1)\n",
        "gridSearchRF.fit(xtrain, ytrain)\n",
        "\n",
        "rfBestAccuracy = gridSearchRF.best_score_\n",
        "rfBestParameters = gridSearchRF.best_params_\n",
        "\n",
        "print(\"Best Accuracy:\", rfBestAccuracy) \n",
        "print(\"Best Parameters:\", rfBestParameters)"
      ],
      "metadata": {
        "id": "OCbGfLA3uPLA",
        "colab": {
          "base_uri": "https://localhost:8080/"
        },
        "outputId": "209fdc67-8bb8-43d4-fb8f-91cbabe490e4"
      },
      "execution_count": 66,
      "outputs": [
        {
          "output_type": "stream",
          "name": "stdout",
          "text": [
            "Best Accuracy: 0.8446305823882276\n",
            "Best Parameters: {'criterion': 'entropy', 'max_depth': 64, 'max_features': 'sqrt', 'n_estimators': 40, 'random_state': 0}\n"
          ]
        }
      ]
    },
    {
      "cell_type": "code",
      "source": [
        "modelRandomForest = RandomForestClassifier(n_estimators=40, criterion='entropy', max_depth=64, max_features='sqrt', random_state=0)\n",
        "modelRandomForest.fit(xtrain, ytrain)"
      ],
      "metadata": {
        "id": "xs0dZ-nSboE7",
        "colab": {
          "base_uri": "https://localhost:8080/"
        },
        "outputId": "4be722bd-5b44-4a6a-e887-174ff4207fa7"
      },
      "execution_count": 67,
      "outputs": [
        {
          "output_type": "execute_result",
          "data": {
            "text/plain": [
              "RandomForestClassifier(criterion='entropy', max_depth=64, max_features='sqrt',\n",
              "                       n_estimators=40, random_state=0)"
            ]
          },
          "metadata": {},
          "execution_count": 67
        }
      ]
    },
    {
      "cell_type": "code",
      "source": [
        "ypredictRandomForest = modelRandomForest.predict(xtest)"
      ],
      "metadata": {
        "id": "FPcuDCF-TLMG"
      },
      "execution_count": 68,
      "outputs": []
    },
    {
      "cell_type": "code",
      "source": [
        "from sklearn.metrics import accuracy_score, recall_score, precision_score, f1_score\n",
        "\n",
        "accuracyRandomForest = accuracy_score(ytest, ypredictRandomForest)\n",
        "recallRandomForest = recall_score(ytest, ypredictRandomForest)\n",
        "precisionRandomForest = precision_score(ytest, ypredictRandomForest)\n",
        "f1RandomForest = f1_score(ytest, ypredictRandomForest)\n",
        "\n",
        "print(\"Random Forest Accuracy:\\n\", accuracyRandomForest)\n",
        "print(\"\\nRandom Forest Recall:\\n\", recallRandomForest)\n",
        "print(\"\\nRandom Forest Precision:\\n\", precisionRandomForest)\n",
        "print(\"\\nRandom Forest F1:\\n\", f1RandomForest)"
      ],
      "metadata": {
        "id": "_IriPfg7uuY2",
        "colab": {
          "base_uri": "https://localhost:8080/"
        },
        "outputId": "04986242-3d30-4ed9-9b7c-322dc8669fc9"
      },
      "execution_count": 69,
      "outputs": [
        {
          "output_type": "stream",
          "name": "stdout",
          "text": [
            "Random Forest Accuracy:\n",
            " 0.8361271770741431\n",
            "\n",
            "Random Forest Recall:\n",
            " 0.8239821882951653\n",
            "\n",
            "Random Forest Precision:\n",
            " 0.8521149924347082\n",
            "\n",
            "Random Forest F1:\n",
            " 0.8378124898935998\n"
          ]
        }
      ]
    }
  ],
  "metadata": {
    "kernelspec": {
      "display_name": "Python 3.7.4 ('base')",
      "language": "python",
      "name": "python3"
    },
    "language_info": {
      "codemirror_mode": {
        "name": "ipython",
        "version": 3
      },
      "file_extension": ".py",
      "mimetype": "text/x-python",
      "name": "python",
      "nbconvert_exporter": "python",
      "pygments_lexer": "ipython3",
      "version": "3.7.4"
    },
    "orig_nbformat": 4,
    "vscode": {
      "interpreter": {
        "hash": "f18e554156b46de4aefd6b49afe96b21b0c7d2a9354ef5143f2dae50dd5b80ea"
      }
    },
    "colab": {
      "provenance": [],
      "toc_visible": true
    }
  },
  "nbformat": 4,
  "nbformat_minor": 0
}